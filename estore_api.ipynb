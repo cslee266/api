{
 "cells": [
  {
   "cell_type": "markdown",
   "metadata": {},
   "source": [
    "# eStore"
   ]
  },
  {
   "cell_type": "code",
   "execution_count": 1,
   "metadata": {},
   "outputs": [],
   "source": [
    "from requests_oauthlib import OAuth1\n",
    "from requests_oauthlib import OAuth1Session\n",
    "import requests\n",
    "import hmac"
   ]
  },
  {
   "cell_type": "code",
   "execution_count": 2,
   "metadata": {},
   "outputs": [],
   "source": [
    "import pandas as pd\n",
    "import numpy as np"
   ]
  },
  {
   "cell_type": "code",
   "execution_count": 3,
   "metadata": {},
   "outputs": [],
   "source": [
    "client_key = ''\n",
    "client_secret = ''\n",
    "resource_owner_key=''\n",
    "resource_owner_secret=''\n",
    "\n",
    "url=''\n",
    "\n",
    "headeroauth = OAuth1(\n",
    "    realm = url,\n",
    "    client_key = client_key,\n",
    "    client_secret = client_secret,\n",
    "    resource_owner_key = resource_owner_key,\n",
    "    resource_owner_secret = resource_owner_secret,\n",
    ")\n",
    "\n",
    "headers = {\n",
    "    'User-Agent': '',\n",
    "    'Content-Type': 'application/json',\n",
    "}\n",
    "\n",
    "response = requests.get(\n",
    "    url,\n",
    "    auth = headeroauth,\n",
    "    headers=headers\n",
    "    )"
   ]
  },
  {
   "cell_type": "code",
   "execution_count": 4,
   "metadata": {},
   "outputs": [],
   "source": [
    "client_key_dev = ''\n",
    "client_secret_dev = ''\n",
    "resource_owner_key_dev=''\n",
    "resource_owner_secret_dev=''"
   ]
  },
  {
   "cell_type": "code",
   "execution_count": 5,
   "metadata": {},
   "outputs": [],
   "source": [
    "deviceList=response.json()"
   ]
  },
  {
   "cell_type": "code",
   "execution_count": 6,
   "metadata": {},
   "outputs": [],
   "source": [
    "import json\n",
    "with open('result.json', 'w') as fp:\n",
    "    json.dump(deviceList[0], fp)"
   ]
  },
  {
   "cell_type": "code",
   "execution_count": 7,
   "metadata": {},
   "outputs": [
    {
     "data": {
      "text/plain": [
       "dict_keys(['id', 'name', 'is_prepaid_bundle', 'plan_tab', 'categories', 'device_combo_data', 'sku', 'operating_system', 'brand', 'mostpopular', 'price', 'isIOTDevice', 'bundle_price', 'base_plan', 'base_plan_title', 'default_plan', 'default_plan_sku', 'plan_min_price', 'device_min_price', 'discounted_device_min_price', 'image', 'full_width_banner', 'pre_order_data', 'discount_promotion_data', 'is_lifestyle', 'lifestyle_hat_text1', 'lifestyle_hat_text2', 'is_easy_phone', 'is_device_bundle', 'is_rent', 'price_start_from', 'is_premium_plan', 'visibility', 'promotion_badge', 'part_number', 'promotiondetails', 'specifications', 'launch_date', 'is_comparable', 'stock_highlighter'])"
      ]
     },
     "execution_count": 7,
     "metadata": {},
     "output_type": "execute_result"
    }
   ],
   "source": [
    "deviceList[0]['items'][0].keys()"
   ]
  },
  {
   "cell_type": "code",
   "execution_count": 8,
   "metadata": {},
   "outputs": [],
   "source": [
    "selCols=['id', 'name', 'sku', 'base_plan']"
   ]
  },
  {
   "cell_type": "code",
   "execution_count": 9,
   "metadata": {},
   "outputs": [],
   "source": [
    "deviceSkus=list(set([device['sku'] for device in deviceList[0]['items']]))"
   ]
  },
  {
   "cell_type": "code",
   "execution_count": 10,
   "metadata": {},
   "outputs": [
    {
     "data": {
      "text/plain": [
       "140"
      ]
     },
     "execution_count": 10,
     "metadata": {},
     "output_type": "execute_result"
    }
   ],
   "source": [
    "len(deviceSkus)"
   ]
  },
  {
   "cell_type": "code",
   "execution_count": 11,
   "metadata": {},
   "outputs": [],
   "source": [
    "def dictListFilter(ld,k,v):\n",
    "    newDict={}\n",
    "    for d in ld:\n",
    "        if k in d:\n",
    "            if d[k]==v:\n",
    "                newDict=d\n",
    "                break\n",
    "    return(newDict)"
   ]
  },
  {
   "cell_type": "code",
   "execution_count": null,
   "metadata": {},
   "outputs": [],
   "source": [
    "devices = []\n",
    "url_det='/'\n",
    "\n",
    "plan_mapping = {\n",
    " '': {'plan_part_number':'','pass_part_number':None},\n",
    " '': {'plan_part_number':'','pass_part_number':''},\n",
    " '': {'plan_part_number':'','pass_part_number':''},\n",
    " '': {'plan_part_number':'','pass_part_number':''},\n",
    " '': {'plan_part_number':'','pass_part_number':''},\n",
    " '': {'plan_part_number':'','pass_part_number':''},\n",
    " '': {'plan_part_number':'','pass_part_number':''},\n",
    " '': {'plan_part_number':'','pass_part_number':''},\n",
    " '': {'plan_part_number':'','pass_part_number':''},\n",
    " '': {'plan_part_number':'','pass_part_number':''}\n",
    "    }\n",
    "\n",
    "for dev in deviceSkus:\n",
    "    print(dev)\n",
    "    url_dev=url_det+dev\n",
    "    headeroauth_dev = OAuth1(\n",
    "        realm = url_dev,\n",
    "        client_key = client_key_dev,\n",
    "        client_secret = client_secret_dev,\n",
    "        resource_owner_key = resource_owner_key_dev,\n",
    "        resource_owner_secret = resource_owner_secret_dev,\n",
    "    )\n",
    "\n",
    "    headers_dev = {\n",
    "        'User-Agent': '',\n",
    "        'Content-Type': 'application/json',\n",
    "    }\n",
    "\n",
    "    response_dev = requests.get(\n",
    "        url_dev,\n",
    "        auth = headeroauth_dev,\n",
    "        headers=headers_dev\n",
    "        )\n",
    "    \n",
    "    data_dev=response_dev.json()\n",
    "    \n",
    "    if (type(data_dev) is not dict):\n",
    "        if ('items' in data_dev[0]):\n",
    "            a={ your_key: data_dev[0]['items']['basic_details'][your_key] \n",
    "                               for your_key in ['name','sku','order_brand','start_date']}\n",
    "            b=[{'memory':x1,\n",
    "                'part_number':x2,\n",
    "                'rrp_rm_strick_price':x3,\n",
    "                'pass_sku':x4,\n",
    "                'upfront_price':x5,\n",
    "                'upfront_duration':x6,\n",
    "                'device_price':x7,\n",
    "                'penalty_price':x8} \n",
    "               for x1,x2,x3,x4,x5,x6,x7,x8 in \n",
    "                   list({str(i):i.values() \n",
    "                     for i in [{'memory':i['memory'],\n",
    "                                'part_number':i['part_number'],\n",
    "                                'rrp':i['rrp'],\n",
    "                                'sku':j['sku'],\n",
    "                                'upfront_price':j['prices'][0]['upfront_price'],\n",
    "                                'upfront_duration':i['upfront_installment'],\n",
    "                                'device_price':j['prices'][0]['device_price'],\n",
    "                                'penalty_price':j['prices'][0]['penalty_price']} \n",
    "                        for i in data_dev[0]['items']['associated_product'] if i['saleable_plans'] \n",
    "                            for j in i['saleable_plans']]}.values())]\n",
    "            \n",
    "            for i in b:\n",
    "                devices.append({**a,**i})\n",
    "\n",
    "for i in devices:\n",
    "    if i['pass_sku'] in plan_mapping.keys():\n",
    "        i['plan_part_number']=plan_mapping[i['pass_sku']]['plan_part_number']\n",
    "        i['pass_part_number']=plan_mapping[i['pass_sku']]['pass_part_number']"
   ]
  },
  {
   "cell_type": "code",
   "execution_count": 13,
   "metadata": {},
   "outputs": [],
   "source": [
    "df=pd.DataFrame(devices)"
   ]
  },
  {
   "cell_type": "code",
   "execution_count": 14,
   "metadata": {},
   "outputs": [],
   "source": [
    "df['plan_title'] = df.pass_sku.str.split('-').str[0]+' '+ df.pass_sku.str.split('-').str[1]\n",
    "df['plan_part_number'] = df.plan_part_number\n",
    "df['plan_sku'] = df.pass_sku\n",
    "df['pass_name'] = df.pass_sku.str.split('-').str[2]\n",
    "df['pass_sku'] = df.pass_sku\n",
    "df['pass_part_number'] = df.pass_part_number"
   ]
  },
  {
   "cell_type": "code",
   "execution_count": 15,
   "metadata": {},
   "outputs": [],
   "source": [
    "df=df[['name','sku','order_brand','rrp_rm_strick_price','start_date','part_number','plan_title','plan_part_number','plan_sku','pass_name','pass_sku','pass_part_number','upfront_price','device_price',\t'penalty_price']]"
   ]
  },
  {
   "cell_type": "code",
   "execution_count": 16,
   "metadata": {},
   "outputs": [],
   "source": [
    "df.loc[df.pass_sku=='','plan_title']=''\n",
    "df.loc[df.pass_sku=='','pass_name']=None"
   ]
  },
  {
   "cell_type": "code",
   "execution_count": null,
   "metadata": {},
   "outputs": [],
   "source": [
    "df[df.plan_title==''].head()"
   ]
  },
  {
   "cell_type": "code",
   "execution_count": 18,
   "metadata": {},
   "outputs": [],
   "source": [
    "df.to_csv('from_eStore.csv',index= False)"
   ]
  }
 ],
 "metadata": {
  "kernelspec": {
   "display_name": "Python 3",
   "language": "python",
   "name": "python3"
  },
  "language_info": {
   "codemirror_mode": {
    "name": "ipython",
    "version": 3
   },
   "file_extension": ".py",
   "mimetype": "text/x-python",
   "name": "python",
   "nbconvert_exporter": "python",
   "pygments_lexer": "ipython3",
   "version": "3.6.6"
  },
  "vscode": {
   "interpreter": {
    "hash": "dee58b595b2d9d940d20c12877072326873578899dc6fc4a8bf4ef009a23c2f3"
   }
  }
 },
 "nbformat": 4,
 "nbformat_minor": 2
}
